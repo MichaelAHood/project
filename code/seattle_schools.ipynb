{
 "cells": [
  {
   "cell_type": "code",
   "execution_count": 27,
   "metadata": {
    "collapsed": true
   },
   "outputs": [],
   "source": [
    "import pandas as pd\n",
    "import json\n",
    "import requests\n",
    "import requesocks\n",
    "import time\n",
    "from bs4 import BeautifulSoup as BS\n",
    "import re"
   ]
  },
  {
   "cell_type": "code",
   "execution_count": 135,
   "metadata": {
    "collapsed": false
   },
   "outputs": [
    {
     "name": "stdout",
     "output_type": "stream",
     "text": [
      "/Users/michaelhood/Documents/projects/project/data/metrics\n"
     ]
    }
   ],
   "source": [
    "cd ../metrics"
   ]
  },
  {
   "cell_type": "code",
   "execution_count": 140,
   "metadata": {
    "collapsed": false
   },
   "outputs": [],
   "source": [
    "df = pd.read_csv('seattle_test.csv', index_col=0).reset_index()\n",
    "df = df.drop('index', axis=1)"
   ]
  },
  {
   "cell_type": "code",
   "execution_count": 107,
   "metadata": {
    "collapsed": false
   },
   "outputs": [],
   "source": [
    "def string_to_dict(input_string):\n",
    "    new_dict = {}\n",
    "    schools_text = input_string.split('\\n\\n') # input_string was a giant string of school ranking info I copied off of a webpage\n",
    "    for line in schools_text:\n",
    "        info = line.split('\\n')\n",
    "        if len(info) == 2:\n",
    "            score, school = info[0], info[1]\n",
    "            new_dict[school] = score\n",
    "        if len(info) == 3:\n",
    "            score, school = info[1], info[2]\n",
    "            new_dict[school] = score\n",
    "        if len(info) > 3:\n",
    "            score, school = info[0], info[1]\n",
    "            new[school] = score\n",
    "            score, school = info[3], info[4]\n",
    "            new_dict[school] = score\n",
    "    return new_dict"
   ]
  },
  {
   "cell_type": "code",
   "execution_count": 155,
   "metadata": {
    "collapsed": false
   },
   "outputs": [],
   "source": [
    "#clean up the few school entries that didn't quite work\n",
    "\n",
    "d[d['']] = 1 # update Middle College High School, which is the value of d['']\n",
    "d['Franklin High School'] = 7\n",
    "del d['Public \\xe2\\x80\\xa2 Grades 9-12']\n",
    "del d['']"
   ]
  },
  {
   "cell_type": "code",
   "execution_count": 71,
   "metadata": {
    "collapsed": false
   },
   "outputs": [],
   "source": [
    "# write the dict to a txt file, so I can read it in later\n",
    "with open('seattle_schools.txt', 'w') as f:\n",
    "    json.dump(d, f)"
   ]
  },
  {
   "cell_type": "markdown",
   "metadata": {},
   "source": [
    "# Now to scrap noodle to get school info"
   ]
  },
  {
   "cell_type": "code",
   "execution_count": 268,
   "metadata": {
    "collapsed": false
   },
   "outputs": [],
   "source": [
    "# create a function to compute an average school score from the html source\n",
    "# for a specific address\n",
    "\n",
    "def compute_school_average(html_source, school_dict):\n",
    "    school_count = 0\n",
    "    address_score = 0\n",
    "    for school in school_dict.keys(): # school_dict is the school info from the string_to_dict function\n",
    "        m = re.search(school, html_source)\n",
    "        if m:\n",
    "            school_count += 1\n",
    "            address_score += int(school_dict[school])\n",
    "    if school_count == 0:\n",
    "        return 0\n",
    "    return float(address_score) / school_count # returns an average of all the schools within ten miles"
   ]
  },
  {
   "cell_type": "code",
   "execution_count": 100,
   "metadata": {
    "collapsed": false
   },
   "outputs": [],
   "source": [
    "def test(df, start, stop):\n",
    "    params = {'user-agent': 'Mozilla/5.0'}\n",
    "    session = requesocks.session()\n",
    "    #Use Tor for both HTTP and HTTPS\n",
    "    session.proxies = {'http': 'socks5://127.0.0.1:9150',\n",
    "                       'https': 'socks5://127.0.0.1:9150'}\n",
    "    \n",
    "    for row in df.ix[start:stop].iterrows(): # iterate through each address in the df and get the html for it\n",
    "        query = (row[1][5]+' '+row[1][1]+' '+row[1][4]+' '+str(row[1][6])).replace(' ', '%20')\n",
    "        # this URL is formatted to query www.noodle.com/schools\n",
    "        URL = \"https://www.noodle.com/search/schools?distance=10&location={0}\".format(query)\n",
    "        query_url = URL + query + \"&sort=best_fit\"\n",
    "        try:\n",
    "            r = session.get(query_url, headers=params)\n",
    "        except:\n",
    "            print \"Row {0} HTTP get failed.\".format(row[0])\n",
    "        with open(\"school_index_{0}.txt\".format(row[0]), 'w') as f: # write each html to a txt file so I can parse it later\n",
    "            f.write(r.content)\n",
    "            \n",
    "        print \"writing {0}\".format(row[0])\n",
    "    \n",
    "    return\n",
    "        "
   ]
  },
  {
   "cell_type": "code",
   "execution_count": 265,
   "metadata": {
    "collapsed": false
   },
   "outputs": [],
   "source": [
    "# load the file, so I can use my compute_school_average function on the html\n",
    "\n",
    "with open('seattle_schools.txt', 'r') as f:\n",
    "    d = f.read()\n",
    "    school_dict = json.loads(d)"
   ]
  },
  {
   "cell_type": "code",
   "execution_count": 127,
   "metadata": {
    "collapsed": false
   },
   "outputs": [
    {
     "name": "stdout",
     "output_type": "stream",
     "text": [
      "/Users/michaelhood/Documents/projects/project/data/schools\n"
     ]
    }
   ],
   "source": [
    "cd ../schools"
   ]
  },
  {
   "cell_type": "code",
   "execution_count": 263,
   "metadata": {
    "collapsed": false
   },
   "outputs": [],
   "source": [
    "#test(df, 0, len(df))"
   ]
  },
  {
   "cell_type": "code",
   "execution_count": 266,
   "metadata": {
    "collapsed": false,
    "scrolled": true
   },
   "outputs": [],
   "source": [
    "def aggregate_scores(df, school_dict):\n",
    "    school_scores = []\n",
    "    for row in df.iterrows():\n",
    "        with open(\"school_index_{0}.txt\".format(row[0]), 'r') as f:\n",
    "            doc = f.read()\n",
    "        school_scores.append(compute_school_average(doc, school_dict))\n",
    "    return school_scores"
   ]
  },
  {
   "cell_type": "code",
   "execution_count": 151,
   "metadata": {
    "collapsed": false
   },
   "outputs": [
    {
     "name": "stdout",
     "output_type": "stream",
     "text": [
      "/Users/michaelhood/Documents/projects/project/data/schools\n"
     ]
    }
   ],
   "source": [
    "cd ../schools"
   ]
  },
  {
   "cell_type": "code",
   "execution_count": 269,
   "metadata": {
    "collapsed": false
   },
   "outputs": [],
   "source": [
    "school_scores = aggregate_scores(df, school_dict)"
   ]
  },
  {
   "cell_type": "code",
   "execution_count": 170,
   "metadata": {
    "collapsed": false
   },
   "outputs": [],
   "source": [
    "df_scores = pd.DataFrame({'school_index': school_scores}, index=range(len(school_scores)))"
   ]
  },
  {
   "cell_type": "code",
   "execution_count": 172,
   "metadata": {
    "collapsed": false
   },
   "outputs": [],
   "source": [
    "df['school_index'] = df_scores"
   ]
  },
  {
   "cell_type": "code",
   "execution_count": 183,
   "metadata": {
    "collapsed": false
   },
   "outputs": [
    {
     "data": {
      "text/plain": [
       "array(['Burien', 'Seattle', 'Des Moines', 'Bellevue', 'Issaquah',\n",
       "       'Sammamish', 'Redmond', 'Duvall', 'Kirkland'], dtype=object)"
      ]
     },
     "execution_count": 183,
     "metadata": {},
     "output_type": "execute_result"
    }
   ],
   "source": [
    "df['city'].unique()"
   ]
  },
  {
   "cell_type": "code",
   "execution_count": 185,
   "metadata": {
    "collapsed": false
   },
   "outputs": [
    {
     "name": "stderr",
     "output_type": "stream",
     "text": [
      "/Users/michaelhood/anaconda/lib/python2.7/site-packages/IPython/kernel/__main__.py:3: SettingWithCopyWarning: \n",
      "A value is trying to be set on a copy of a slice from a DataFrame\n",
      "\n",
      "See the the caveats in the documentation: http://pandas.pydata.org/pandas-docs/stable/indexing.html#indexing-view-versus-copy\n",
      "  app.launch_new_instance()\n"
     ]
    }
   ],
   "source": [
    "# impute the zeros, which are missing values, with the mean for a particular city \n",
    "for city in df['city'].unique():\n",
    "    mean_score = df['school_index'][df['city'] == city].mean()\n",
    "    df['school_index'][(df['city'] == city) & (df['school_index'] == 0)] = mean_score"
   ]
  }
 ],
 "metadata": {
  "kernelspec": {
   "display_name": "Python 2",
   "language": "python",
   "name": "python2"
  },
  "language_info": {
   "codemirror_mode": {
    "name": "ipython",
    "version": 2
   },
   "file_extension": ".py",
   "mimetype": "text/x-python",
   "name": "python",
   "nbconvert_exporter": "python",
   "pygments_lexer": "ipython2",
   "version": "2.7.10"
  }
 },
 "nbformat": 4,
 "nbformat_minor": 0
}
