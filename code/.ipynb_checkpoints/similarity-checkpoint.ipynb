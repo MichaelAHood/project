{
 "cells": [
  {
   "cell_type": "code",
   "execution_count": 1,
   "metadata": {
    "collapsed": false
   },
   "outputs": [],
   "source": [
    "import pandas as pd\n",
    "import numpy as np\n",
    "from sklearn.metrics.pairwise import pairwise_distances\n",
    "from sklearn.cluster import KMeans\n",
    "%autoreload"
   ]
  },
  {
   "cell_type": "code",
   "execution_count": 2,
   "metadata": {
    "collapsed": false
   },
   "outputs": [
    {
     "data": {
      "text/plain": [
       "u'/Users/michaelhood/Documents/projects/project/code'"
      ]
     },
     "execution_count": 2,
     "metadata": {},
     "output_type": "execute_result"
    }
   ],
   "source": [
    "pwd"
   ]
  },
  {
   "cell_type": "code",
   "execution_count": 2,
   "metadata": {
    "collapsed": false
   },
   "outputs": [
    {
     "name": "stdout",
     "output_type": "stream",
     "text": [
      "/Users/michaelhood/Documents/projects/project/data/seattle\n"
     ]
    }
   ],
   "source": [
    "cd ../data/seattle/"
   ]
  },
  {
   "cell_type": "code",
   "execution_count": 3,
   "metadata": {
    "collapsed": true
   },
   "outputs": [],
   "source": [
    "df_sea = pd.read_csv('normalized_sea.csv', index_col=0)\n",
    "df_sea = df_sea.reset_index(drop=True)\n",
    "df_sea_ref = pd.read_csv('trx_sea.csv', index_col=0)"
   ]
  },
  {
   "cell_type": "code",
   "execution_count": 4,
   "metadata": {
    "collapsed": false
   },
   "outputs": [
    {
     "name": "stdout",
     "output_type": "stream",
     "text": [
      "/Users/michaelhood/Documents/projects/project/data/san_fran\n"
     ]
    }
   ],
   "source": [
    "cd ../san_fran/"
   ]
  },
  {
   "cell_type": "code",
   "execution_count": 5,
   "metadata": {
    "collapsed": false
   },
   "outputs": [],
   "source": [
    "df_sf = pd.read_csv('normalized_sf.csv', index_col=0)\n",
    "df_sf = df_sf.reset_index(drop=True)\n",
    "df_sf_ref = pd.read_csv('trx_sf.csv', index_col=0)"
   ]
  },
  {
   "cell_type": "code",
   "execution_count": 9,
   "metadata": {
    "collapsed": true
   },
   "outputs": [],
   "source": [
    "km = KMeans(n_clusters=4, n_jobs=-1)"
   ]
  },
  {
   "cell_type": "code",
   "execution_count": 12,
   "metadata": {
    "collapsed": false
   },
   "outputs": [
    {
     "data": {
      "text/plain": [
       "KMeans(copy_x=True, init='k-means++', max_iter=300, n_clusters=4, n_init=10,\n",
       "    n_jobs=-1, precompute_distances=True, random_state=None, tol=0.0001,\n",
       "    verbose=0)"
      ]
     },
     "execution_count": 12,
     "metadata": {},
     "output_type": "execute_result"
    }
   ],
   "source": [
    "km.fit(df_sf)"
   ]
  },
  {
   "cell_type": "code",
   "execution_count": 13,
   "metadata": {
    "collapsed": true
   },
   "outputs": [],
   "source": [
    "predictions = km.predict(df_sf)"
   ]
  },
  {
   "cell_type": "code",
   "execution_count": 20,
   "metadata": {
    "collapsed": false
   },
   "outputs": [
    {
     "data": {
      "text/plain": [
       "286"
      ]
     },
     "execution_count": 20,
     "metadata": {},
     "output_type": "execute_result"
    }
   ],
   "source": [
    "len(predictions)"
   ]
  },
  {
   "cell_type": "code",
   "execution_count": 6,
   "metadata": {
    "collapsed": false
   },
   "outputs": [
    {
     "name": "stdout",
     "output_type": "stream",
     "text": [
      "/Users/michaelhood/Documents/projects/project/code\n"
     ]
    }
   ],
   "source": [
    "cd ../../code"
   ]
  },
  {
   "cell_type": "code",
   "execution_count": 65,
   "metadata": {
    "collapsed": false
   },
   "outputs": [],
   "source": [
    "from learn_preferences import LearnPreferences\n",
    "from metrics import space_distance, walk_distance"
   ]
  },
  {
   "cell_type": "code",
   "execution_count": 68,
   "metadata": {
    "collapsed": false
   },
   "outputs": [],
   "source": [
    "lp = LearnPreferences(df_sf, df_sea, [space_distance, walk_distance], 1, 30)"
   ]
  },
  {
   "cell_type": "code",
   "execution_count": 69,
   "metadata": {
    "collapsed": false
   },
   "outputs": [
    {
     "name": "stdout",
     "output_type": "stream",
     "text": [
      "bathrooms          0.000000\n",
      "bedrooms           0.500000\n",
      "finishedsqft       0.296255\n",
      "numrooms           0.380952\n",
      "yearbuilt          0.333333\n",
      "price              0.069662\n",
      "trans_score        0.520408\n",
      "walkscore_score    0.577320\n",
      "Name: 3, dtype: float64\n",
      "bathrooms          0.136364\n",
      "bedrooms           0.333333\n",
      "finishedsqft       0.236672\n",
      "numrooms           0.333333\n",
      "yearbuilt          0.657407\n",
      "price              0.076977\n",
      "trans_score        0.000000\n",
      "walkscore_score    0.350515\n",
      "Name: 12, dtype: float64\n",
      "Which house do you like best? (l)eft or (r)ight?:   l\n",
      "bathrooms          0.363636\n",
      "bedrooms           0.666667\n",
      "finishedsqft       0.425383\n",
      "numrooms           0.285714\n",
      "yearbuilt          0.537037\n",
      "price              0.129224\n",
      "trans_score        0.387755\n",
      "walkscore_score    0.237113\n",
      "Name: 2, dtype: float64\n",
      "bathrooms          0.500000\n",
      "bedrooms           0.833333\n",
      "finishedsqft       0.504704\n",
      "numrooms           0.476190\n",
      "yearbuilt          0.194444\n",
      "price              0.613378\n",
      "trans_score        0.612245\n",
      "walkscore_score    0.701031\n",
      "Name: 4, dtype: float64\n",
      "Which house do you like best? (l)eft or (r)ight?:   r\n",
      "bathrooms          0.181818\n",
      "bedrooms           0.166667\n",
      "finishedsqft       0.124700\n",
      "numrooms           0.190476\n",
      "yearbuilt          0.694444\n",
      "price              0.019505\n",
      "trans_score        0.387755\n",
      "walkscore_score    0.587629\n",
      "Name: 0, dtype: float64\n",
      "bathrooms          0.181818\n",
      "bedrooms           0.833333\n",
      "finishedsqft       0.401402\n",
      "numrooms           0.619048\n",
      "yearbuilt          0.194444\n",
      "price              0.215954\n",
      "trans_score        0.571429\n",
      "walkscore_score    0.845361\n",
      "Name: 5, dtype: float64\n",
      "Which house do you like best? (l)eft or (r)ight?:   r\n",
      "bathrooms          0.181818\n",
      "bedrooms           0.500000\n",
      "finishedsqft       0.229847\n",
      "numrooms           0.380952\n",
      "yearbuilt          0.398148\n",
      "price              0.087078\n",
      "trans_score        0.479592\n",
      "walkscore_score    0.731959\n",
      "Name: 1, dtype: float64\n",
      "bathrooms          0.136364\n",
      "bedrooms           0.166667\n",
      "finishedsqft       0.187419\n",
      "numrooms           0.142857\n",
      "yearbuilt          0.666667\n",
      "price              0.069837\n",
      "trans_score        0.326531\n",
      "walkscore_score    0.206186\n",
      "Name: 11, dtype: float64\n",
      "Which house do you like best? (l)eft or (r)ight?:   l\n",
      "bathrooms          0.136364\n",
      "bedrooms           0.166667\n",
      "finishedsqft       0.209555\n",
      "numrooms           0.190476\n",
      "yearbuilt          0.111111\n",
      "price              0.198886\n",
      "trans_score        0.612245\n",
      "walkscore_score    0.701031\n",
      "Name: 6, dtype: float64\n",
      "bathrooms          0.000000\n",
      "bedrooms           0.166667\n",
      "finishedsqft       0.068991\n",
      "numrooms           0.190476\n",
      "yearbuilt          0.861111\n",
      "price              0.080112\n",
      "trans_score        0.581633\n",
      "walkscore_score    0.804124\n",
      "Name: 7, dtype: float64\n",
      "Which house do you like best? (l)eft or (r)ight?:   r\n",
      "bathrooms          0.363636\n",
      "bedrooms           0.333333\n",
      "finishedsqft       0.289061\n",
      "numrooms           0.238095\n",
      "yearbuilt          0.037037\n",
      "price              0.251133\n",
      "trans_score        0.561224\n",
      "walkscore_score    0.742268\n",
      "Name: 8, dtype: float64\n",
      "bathrooms          0.272727\n",
      "bedrooms           0.333333\n",
      "finishedsqft       0.161963\n",
      "numrooms           0.285714\n",
      "yearbuilt          0.935185\n",
      "price              0.141415\n",
      "trans_score        0.530612\n",
      "walkscore_score    0.742268\n",
      "Name: 14, dtype: float64\n",
      "Which house do you like best? (l)eft or (r)ight?:   l\n",
      "bathrooms          0.136364\n",
      "bedrooms           0.500000\n",
      "finishedsqft       0.301789\n",
      "numrooms           0.285714\n",
      "yearbuilt          0.472222\n",
      "price              0.120516\n",
      "trans_score        0.000000\n",
      "walkscore_score    0.123711\n",
      "Name: 10, dtype: float64\n",
      "bathrooms          0.181818\n",
      "bedrooms           0.333333\n",
      "finishedsqft       0.287032\n",
      "numrooms           0.238095\n",
      "yearbuilt          0.101852\n",
      "price              0.153257\n",
      "trans_score        0.000000\n",
      "walkscore_score    0.010309\n",
      "Name: 15, dtype: float64\n",
      "Which house do you like best? (l)eft or (r)ight?:   l\n",
      "bathrooms          0.454545\n",
      "bedrooms           0.666667\n",
      "finishedsqft       0.561889\n",
      "numrooms           0.523810\n",
      "yearbuilt          0.009259\n",
      "price              0.460120\n",
      "trans_score        0.500000\n",
      "walkscore_score    0.670103\n",
      "Name: 13, dtype: float64\n",
      "bathrooms          0.000000\n",
      "bedrooms           0.166667\n",
      "finishedsqft       0.108098\n",
      "numrooms           0.190476\n",
      "yearbuilt          0.111111\n",
      "price              0.167538\n",
      "trans_score        0.602041\n",
      "walkscore_score    0.814433\n",
      "Name: 9, dtype: float64\n",
      "Which house do you like best? (l)eft or (r)ight?:   r\n"
     ]
    },
    {
     "data": {
      "text/plain": [
       "{1: {'estimated_user_preference': <function metrics.walk_distance>,\n",
       "  'pairs_served': [3, 12],\n",
       "  'winner': 3},\n",
       " 2: {'estimated_user_preference': <function metrics.space_distance>,\n",
       "  'pairs_served': [2, 4],\n",
       "  'winner': 4},\n",
       " 3: {'estimated_user_preference': <function metrics.space_distance>,\n",
       "  'pairs_served': [0, 5],\n",
       "  'winner': 5},\n",
       " 4: {'estimated_user_preference': <function metrics.space_distance>,\n",
       "  'pairs_served': [1, 11],\n",
       "  'winner': 1},\n",
       " 5: {'estimated_user_preference': <function metrics.space_distance>,\n",
       "  'pairs_served': [6, 7],\n",
       "  'winner': 7},\n",
       " 6: {'estimated_user_preference': <function metrics.space_distance>,\n",
       "  'pairs_served': [8, 14],\n",
       "  'winner': 8},\n",
       " 7: {'estimated_user_preference': <function metrics.space_distance>,\n",
       "  'pairs_served': [10, 15],\n",
       "  'winner': 10},\n",
       " 8: {'estimated_user_preference': <function metrics.space_distance>,\n",
       "  'pairs_served': [13, 9],\n",
       "  'winner': 9}}"
      ]
     },
     "execution_count": 69,
     "metadata": {},
     "output_type": "execute_result"
    }
   ],
   "source": [
    "for i in range(8):\n",
    "    lp.get_user_choice(df_sf, df_sea)\n",
    "    lp.guess_preferences()\n",
    "lp.recommendation_history"
   ]
  },
  {
   "cell_type": "code",
   "execution_count": 70,
   "metadata": {
    "collapsed": false
   },
   "outputs": [
    {
     "data": {
      "text/plain": [
       "{<function metrics.space_distance>: 5, <function metrics.walk_distance>: 3}"
      ]
     },
     "execution_count": 70,
     "metadata": {},
     "output_type": "execute_result"
    }
   ],
   "source": [
    "lp.scores"
   ]
  },
  {
   "cell_type": "code",
   "execution_count": null,
   "metadata": {
    "collapsed": true
   },
   "outputs": [],
   "source": []
  }
 ],
 "metadata": {
  "kernelspec": {
   "display_name": "Python 2",
   "language": "python",
   "name": "python2"
  },
  "language_info": {
   "codemirror_mode": {
    "name": "ipython",
    "version": 2
   },
   "file_extension": ".py",
   "mimetype": "text/x-python",
   "name": "python",
   "nbconvert_exporter": "python",
   "pygments_lexer": "ipython2",
   "version": "2.7.10"
  }
 },
 "nbformat": 4,
 "nbformat_minor": 0
}
