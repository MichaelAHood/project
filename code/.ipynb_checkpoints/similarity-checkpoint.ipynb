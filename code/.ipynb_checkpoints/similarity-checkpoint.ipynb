{
 "cells": [
  {
   "cell_type": "code",
   "execution_count": 21,
   "metadata": {
    "collapsed": false
   },
   "outputs": [],
   "source": [
    "import pandas as pd\n",
    "import numpy as np\n",
    "from sklearn.metrics.pairwise import pairwise_distances"
   ]
  },
  {
   "cell_type": "code",
   "execution_count": 2,
   "metadata": {
    "collapsed": false
   },
   "outputs": [
    {
     "data": {
      "text/plain": [
       "u'/Users/michaelhood/Documents/projects/project/code'"
      ]
     },
     "execution_count": 2,
     "metadata": {},
     "output_type": "execute_result"
    }
   ],
   "source": [
    "pwd"
   ]
  },
  {
   "cell_type": "code",
   "execution_count": 3,
   "metadata": {
    "collapsed": false
   },
   "outputs": [
    {
     "name": "stdout",
     "output_type": "stream",
     "text": [
      "/Users/michaelhood/Documents/projects/project/data/san_fran\n"
     ]
    }
   ],
   "source": [
    "cd ../data/san_fran/"
   ]
  },
  {
   "cell_type": "code",
   "execution_count": 19,
   "metadata": {
    "collapsed": true
   },
   "outputs": [],
   "source": [
    "df_sf = pd.read_csv('normalized_sf.csv', index_col=0)\n",
    "df_sf = df_sf.reset_index(drop=True)\n",
    "df_sea = pd.read_csv('normalized_sea.csv', index_col=0)\n",
    "df_sea = df_sea.reset_index(drop=True)"
   ]
  },
  {
   "cell_type": "code",
   "execution_count": 18,
   "metadata": {
    "collapsed": false
   },
   "outputs": [
    {
     "data": {
      "text/html": [
       "<div style=\"max-height:1000px;max-width:1500px;overflow:auto;\">\n",
       "<table border=\"1\" class=\"dataframe\">\n",
       "  <thead>\n",
       "    <tr style=\"text-align: right;\">\n",
       "      <th></th>\n",
       "      <th>bathrooms</th>\n",
       "      <th>bedrooms</th>\n",
       "      <th>finishedsqft</th>\n",
       "      <th>numrooms</th>\n",
       "      <th>yearbuilt</th>\n",
       "      <th>price</th>\n",
       "      <th>trans_score</th>\n",
       "      <th>walkscore_score</th>\n",
       "    </tr>\n",
       "  </thead>\n",
       "  <tbody>\n",
       "    <tr>\n",
       "      <th>0</th>\n",
       "      <td> 0.142857</td>\n",
       "      <td> 0.3</td>\n",
       "      <td> 0.168207</td>\n",
       "      <td> 0.388889</td>\n",
       "      <td> 0.241379</td>\n",
       "      <td> 0.046068</td>\n",
       "      <td> 0.44</td>\n",
       "      <td> 0.686869</td>\n",
       "    </tr>\n",
       "    <tr>\n",
       "      <th>1</th>\n",
       "      <td> 0.142857</td>\n",
       "      <td> 0.1</td>\n",
       "      <td> 0.059964</td>\n",
       "      <td> 0.111111</td>\n",
       "      <td> 0.703448</td>\n",
       "      <td> 0.019520</td>\n",
       "      <td> 0.29</td>\n",
       "      <td> 0.313131</td>\n",
       "    </tr>\n",
       "    <tr>\n",
       "      <th>2</th>\n",
       "      <td> 0.000000</td>\n",
       "      <td> 0.2</td>\n",
       "      <td> 0.136107</td>\n",
       "      <td> 0.277778</td>\n",
       "      <td> 0.206897</td>\n",
       "      <td> 0.056644</td>\n",
       "      <td> 0.85</td>\n",
       "      <td> 0.979798</td>\n",
       "    </tr>\n",
       "    <tr>\n",
       "      <th>3</th>\n",
       "      <td> 0.000000</td>\n",
       "      <td> 0.1</td>\n",
       "      <td> 0.046739</td>\n",
       "      <td> 0.222222</td>\n",
       "      <td> 0.206897</td>\n",
       "      <td> 0.031942</td>\n",
       "      <td> 0.82</td>\n",
       "      <td> 0.969697</td>\n",
       "    </tr>\n",
       "    <tr>\n",
       "      <th>4</th>\n",
       "      <td> 0.285714</td>\n",
       "      <td> 0.4</td>\n",
       "      <td> 0.232409</td>\n",
       "      <td> 0.555556</td>\n",
       "      <td> 0.027586</td>\n",
       "      <td> 0.163260</td>\n",
       "      <td> 0.87</td>\n",
       "      <td> 0.989899</td>\n",
       "    </tr>\n",
       "  </tbody>\n",
       "</table>\n",
       "</div>"
      ],
      "text/plain": [
       "   bathrooms  bedrooms  finishedsqft  numrooms  yearbuilt     price  \\\n",
       "0   0.142857       0.3      0.168207  0.388889   0.241379  0.046068   \n",
       "1   0.142857       0.1      0.059964  0.111111   0.703448  0.019520   \n",
       "2   0.000000       0.2      0.136107  0.277778   0.206897  0.056644   \n",
       "3   0.000000       0.1      0.046739  0.222222   0.206897  0.031942   \n",
       "4   0.285714       0.4      0.232409  0.555556   0.027586  0.163260   \n",
       "\n",
       "   trans_score  walkscore_score  \n",
       "0         0.44         0.686869  \n",
       "1         0.29         0.313131  \n",
       "2         0.85         0.979798  \n",
       "3         0.82         0.969697  \n",
       "4         0.87         0.989899  "
      ]
     },
     "execution_count": 18,
     "metadata": {},
     "output_type": "execute_result"
    }
   ],
   "source": [
    "df_sf.head()"
   ]
  },
  {
   "cell_type": "code",
   "execution_count": 45,
   "metadata": {
    "collapsed": false
   },
   "outputs": [],
   "source": [
    "sim_mat = pairwise_distances(df_sf, df_sea, metric='cosine', n_jobs=-1) # need to comp a new distance metric"
   ]
  },
  {
   "cell_type": "code",
   "execution_count": 43,
   "metadata": {
    "collapsed": false
   },
   "outputs": [],
   "source": [
    "# sf is rows and sea is cols\n",
    "\n",
    "def get_most_similar(sim_mat, ref_listing, num_matches):\n",
    "    '''\n",
    "    Input: similarity matrix with first arg of parwise distances as rows and\n",
    "           second arg of pairwise distances as columns, the integer index of the \n",
    "           listing you want to compare other listings to, int for the num of listings\n",
    "           to return.\n",
    "           \n",
    "    Output: an numpy array with the indices of the listings in the other city that\n",
    "            are most similar to the ref_listing.\n",
    "    '''\n",
    "    \n",
    "    return np.argsort(mat[ref_listing])[-(num_matches):]"
   ]
  },
  {
   "cell_type": "code",
   "execution_count": 44,
   "metadata": {
    "collapsed": false
   },
   "outputs": [
    {
     "data": {
      "text/plain": [
       "array([63, 33, 95, 96, 85])"
      ]
     },
     "execution_count": 44,
     "metadata": {},
     "output_type": "execute_result"
    }
   ],
   "source": [
    "get_most_similar(sim_mat, 0, 5)"
   ]
  },
  {
   "cell_type": "code",
   "execution_count": 42,
   "metadata": {
    "collapsed": false
   },
   "outputs": [
    {
     "data": {
      "text/plain": [
       "286"
      ]
     },
     "execution_count": 42,
     "metadata": {},
     "output_type": "execute_result"
    }
   ],
   "source": [
    "len(mat[:])"
   ]
  },
  {
   "cell_type": "code",
   "execution_count": 40,
   "metadata": {
    "collapsed": false
   },
   "outputs": [
    {
     "data": {
      "text/plain": [
       "(176, 8)"
      ]
     },
     "execution_count": 40,
     "metadata": {},
     "output_type": "execute_result"
    }
   ],
   "source": [
    "df_sea.shape"
   ]
  },
  {
   "cell_type": "code",
   "execution_count": 41,
   "metadata": {
    "collapsed": false
   },
   "outputs": [
    {
     "data": {
      "text/plain": [
       "(286, 8)"
      ]
     },
     "execution_count": 41,
     "metadata": {},
     "output_type": "execute_result"
    }
   ],
   "source": [
    "df_sf.shape"
   ]
  },
  {
   "cell_type": "code",
   "execution_count": null,
   "metadata": {
    "collapsed": true
   },
   "outputs": [],
   "source": []
  }
 ],
 "metadata": {
  "kernelspec": {
   "display_name": "Python 2",
   "language": "python",
   "name": "python2"
  },
  "language_info": {
   "codemirror_mode": {
    "name": "ipython",
    "version": 2
   },
   "file_extension": ".py",
   "mimetype": "text/x-python",
   "name": "python",
   "nbconvert_exporter": "python",
   "pygments_lexer": "ipython2",
   "version": "2.7.10"
  }
 },
 "nbformat": 4,
 "nbformat_minor": 0
}
