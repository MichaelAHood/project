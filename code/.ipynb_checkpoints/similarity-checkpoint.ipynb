{
 "cells": [
  {
   "cell_type": "code",
   "execution_count": 83,
   "metadata": {
    "collapsed": false
   },
   "outputs": [],
   "source": [
    "import pandas as pd\n",
    "import numpy as np\n",
    "from sklearn.metrics.pairwise import pairwise_distances\n",
    "from sklearn.cluster import KMeans\n",
    "%autoreload"
   ]
  },
  {
   "cell_type": "code",
   "execution_count": 104,
   "metadata": {
    "collapsed": false
   },
   "outputs": [
    {
     "data": {
      "text/plain": [
       "u'/Users/michaelhood/Documents/projects/project/data/seattle'"
      ]
     },
     "execution_count": 104,
     "metadata": {},
     "output_type": "execute_result"
    }
   ],
   "source": [
    "pwd"
   ]
  },
  {
   "cell_type": "code",
   "execution_count": 99,
   "metadata": {
    "collapsed": false
   },
   "outputs": [
    {
     "name": "stdout",
     "output_type": "stream",
     "text": [
      "/Users/michaelhood/Documents/projects/project/data/seattle\n"
     ]
    }
   ],
   "source": [
    "cd ../seattle/"
   ]
  },
  {
   "cell_type": "code",
   "execution_count": 105,
   "metadata": {
    "collapsed": false
   },
   "outputs": [],
   "source": [
    "sea = pd.read_csv('analysis_sea.csv', index_col=0)\n",
    "sea = sea.reset_index(drop=True)\n",
    "sea_meta = pd.read_csv('meta_sea.csv', index_col=0)"
   ]
  },
  {
   "cell_type": "code",
   "execution_count": 106,
   "metadata": {
    "collapsed": false
   },
   "outputs": [
    {
     "name": "stdout",
     "output_type": "stream",
     "text": [
      "/Users/michaelhood/Documents/projects/project/data/san_fran\n"
     ]
    }
   ],
   "source": [
    "cd ../san_fran/"
   ]
  },
  {
   "cell_type": "code",
   "execution_count": 107,
   "metadata": {
    "collapsed": false
   },
   "outputs": [],
   "source": [
    "sf = pd.read_csv('analysis_sf.csv', index_col=0)\n",
    "sf = sf.reset_index(drop=True)\n",
    "sf_meta = pd.read_csv('meta_sf.csv', index_col=0)"
   ]
  },
  {
   "cell_type": "code",
   "execution_count": 167,
   "metadata": {
    "collapsed": false
   },
   "outputs": [],
   "source": [
    "s = sea_meta.head(10)"
   ]
  },
  {
   "cell_type": "code",
   "execution_count": 198,
   "metadata": {
    "collapsed": true
   },
   "outputs": [],
   "source": [
    "def make_url(row):\n",
    "    url = \"http://www.zillow.com/{0}-{1}-{2}/zpid_\".format(row[1], row[2], row[3])\n",
    "    print (url + str(row[4])).replace(' ', '-')"
   ]
  },
  {
   "cell_type": "code",
   "execution_count": 199,
   "metadata": {
    "collapsed": false
   },
   "outputs": [
    {
     "name": "stdout",
     "output_type": "stream",
     "text": [
      "http://www.zillow.com/18400-Occidental-Ave-S-Burien-WA/zpid_98148\n",
      "http://www.zillow.com/11845-22nd-Ave-SW-Burien-WA/zpid_98146\n",
      "http://www.zillow.com/383-S-163rd-St-Burien-WA/zpid_98148\n",
      "http://www.zillow.com/13823-1st-Ave-SW-Burien-WA/zpid_98166\n",
      "http://www.zillow.com/1239-SW-132nd-Ln-APT-812-Burien-WA/zpid_98146\n",
      "http://www.zillow.com/1012-SW-132nd-St-Burien-WA/zpid_98146\n",
      "http://www.zillow.com/1230-SW-157th-St-Burien-WA/zpid_98166\n",
      "http://www.zillow.com/449-S-189th-St-Seattle-WA/zpid_98148\n",
      "http://www.zillow.com/321-S-128th-St-Burien-WA/zpid_98168\n",
      "http://www.zillow.com/256-S-182nd-St-Burien-WA/zpid_98148\n"
     ]
    }
   ],
   "source": [
    "for row in s.iterrows():\n",
    "    make_url(row[1])"
   ]
  },
  {
   "cell_type": "code",
   "execution_count": 9,
   "metadata": {
    "collapsed": true
   },
   "outputs": [],
   "source": [
    "# km = KMeans(n_clusters=4, n_jobs=-1)\n",
    "# km.fit(sf)\n",
    "# predictions = km.predict(df_sf)\n",
    "# len(predictions)"
   ]
  },
  {
   "cell_type": "code",
   "execution_count": 108,
   "metadata": {
    "collapsed": false
   },
   "outputs": [
    {
     "name": "stdout",
     "output_type": "stream",
     "text": [
      "/Users/michaelhood/Documents/projects/project/code\n"
     ]
    }
   ],
   "source": [
    "cd ../../code"
   ]
  },
  {
   "cell_type": "code",
   "execution_count": 109,
   "metadata": {
    "collapsed": false
   },
   "outputs": [],
   "source": [
    "from learn_preferences import LearnPreferences\n",
    "from metrics import space_distance, walk_distance"
   ]
  },
  {
   "cell_type": "code",
   "execution_count": 96,
   "metadata": {
    "collapsed": false
   },
   "outputs": [
    {
     "data": {
      "text/plain": [
       "8     http://www.zillow.com/homedetails/1088-Melrose...\n",
       "13    http://www.zillow.com/homedetails/1311-Webster...\n",
       "15    http://www.zillow.com/homedetails/3314-Washing...\n",
       "17    http://www.zillow.com/homedetails/321-Maitland...\n",
       "19    http://www.zillow.com/homedetails/2718-Washing...\n",
       "21    http://www.zillow.com/homedetails/3236-Garfiel...\n",
       "24    http://www.zillow.com/homedetails/1857-Wood-St...\n",
       "25    http://www.zillow.com/homedetails/501-Tideway-...\n",
       "30    http://www.zillow.com/homedetails/430-Cola-Bal...\n",
       "31    http://www.zillow.com/homedetails/2061-Eagle-A...\n",
       "89    http://www.zillow.com/homedetails/50-Hays-Ct-A...\n",
       "90    http://www.zillow.com/homedetails/1615-Pearl-S...\n",
       "93    http://www.zillow.com/homedetails/960-Shorepoi...\n",
       "95    http://www.zillow.com/homedetails/2125-Bryant-...\n",
       "96    http://www.zillow.com/homedetails/843-S-Van-Ne...\n",
       "...\n",
       "725    http://www.zillow.com/homedetails/5728-Brookda...\n",
       "727    http://www.zillow.com/homedetails/2468-Maxwell...\n",
       "730    http://www.zillow.com/homedetails/3596-Louis-R...\n",
       "731    http://www.zillow.com/homedetails/101-Alma-406...\n",
       "737    http://www.zillow.com/homedetails/110-San-Anto...\n",
       "738    http://www.zillow.com/homedetails/372-Acacia-A...\n",
       "741    http://www.zillow.com/homedetails/2141-Sherato...\n",
       "744    http://www.zillow.com/homedetails/148-N-Henry-...\n",
       "745    http://www.zillow.com/homedetails/2535-Crystal...\n",
       "748    http://www.zillow.com/homedetails/2235-Homeste...\n",
       "750    http://www.zillow.com/homedetails/2890-Stevens...\n",
       "754    http://www.zillow.com/homedetails/419-Paria-Te...\n",
       "755    http://www.zillow.com/homedetails/798-S-Wolfe-...\n",
       "758    http://www.zillow.com/homedetails/481-Tristani...\n",
       "759    http://www.zillow.com/homedetails/742-Lakewood...\n",
       "Name: links_photogallery, Length: 285, dtype: object"
      ]
     },
     "execution_count": 96,
     "metadata": {},
     "output_type": "execute_result"
    }
   ],
   "source": [
    "df_sf_ref"
   ]
  },
  {
   "cell_type": "code",
   "execution_count": 68,
   "metadata": {
    "collapsed": false
   },
   "outputs": [],
   "source": [
    "lp = LearnPreferences(df_sf, df_sea, [space_distance, walk_distance], 1, 30)"
   ]
  },
  {
   "cell_type": "code",
   "execution_count": 76,
   "metadata": {
    "collapsed": false
   },
   "outputs": [],
   "source": [
    "# for i in range(8):\n",
    "#     lp.get_user_choice(df_sf, df_sea)\n",
    "#     lp.guess_preferences()\n",
    "# lp.recommendation_history"
   ]
  },
  {
   "cell_type": "code",
   "execution_count": 78,
   "metadata": {
    "collapsed": false
   },
   "outputs": [
    {
     "name": "stdout",
     "output_type": "stream",
     "text": [
      "/Users/michaelhood/Documents/projects/project/data/seattle\n"
     ]
    }
   ],
   "source": [
    "cd ../data/seattle/"
   ]
  },
  {
   "cell_type": "code",
   "execution_count": 80,
   "metadata": {
    "collapsed": false
   },
   "outputs": [],
   "source": [
    "s = pd.read_csv('trx_sea.csv')"
   ]
  },
  {
   "cell_type": "code",
   "execution_count": 82,
   "metadata": {
    "collapsed": false
   },
   "outputs": [
    {
     "data": {
      "text/plain": [
       "Index([u'Unnamed: 0', u'_id', u'city', u'latitude', u'longitude', u'state', u'street', u'zipcode', u'appliances', u'architecture', u'basement', u'bathrooms', u'bedrooms', u'coolingsystem', u'coveredparkingspaces', u'exteriormaterial', u'finishedsqft', u'floorcovering', u'floornumber', u'heatingsources', u'heatingsystem', u'lotsizesqft', u'numfloors', u'numrooms', u'numunits', u'parkingtype', u'roof', u'rooms', u'usecode', u'view', u'yearbuilt', u'yearupdated', u'elementaryschool', u'highschool', u'homedescription', u'count', u'middleschool', u'neighborhood', u'pageviewcount_currentmonth', u'pageviewcount_total', u'status', u'type', u'price', u'schooldistrict', u'whatownerloves', u'zpid'], dtype='object')"
      ]
     },
     "execution_count": 82,
     "metadata": {},
     "output_type": "execute_result"
    }
   ],
   "source": [
    "s.columns"
   ]
  },
  {
   "cell_type": "code",
   "execution_count": null,
   "metadata": {
    "collapsed": true
   },
   "outputs": [],
   "source": []
  }
 ],
 "metadata": {
  "kernelspec": {
   "display_name": "Python 2",
   "language": "python",
   "name": "python2"
  },
  "language_info": {
   "codemirror_mode": {
    "name": "ipython",
    "version": 2
   },
   "file_extension": ".py",
   "mimetype": "text/x-python",
   "name": "python",
   "nbconvert_exporter": "python",
   "pygments_lexer": "ipython2",
   "version": "2.7.10"
  }
 },
 "nbformat": 4,
 "nbformat_minor": 0
}
