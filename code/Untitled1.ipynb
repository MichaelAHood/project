{
 "cells": [
  {
   "cell_type": "code",
   "execution_count": 1,
   "metadata": {
    "collapsed": true
   },
   "outputs": [],
   "source": [
    "import pandas as pd\n",
    "import numpy as np"
   ]
  },
  {
   "cell_type": "code",
   "execution_count": 6,
   "metadata": {
    "collapsed": false
   },
   "outputs": [],
   "source": [
    "df = pd.DataFrame({'a': np.random.sample(10), 'b': np.random.sample(10)})"
   ]
  },
  {
   "cell_type": "code",
   "execution_count": 7,
   "metadata": {
    "collapsed": false
   },
   "outputs": [],
   "source": [
    "df.to_csv('test.csv', header=True, index=True)"
   ]
  },
  {
   "cell_type": "code",
   "execution_count": 8,
   "metadata": {
    "collapsed": false
   },
   "outputs": [
    {
     "name": "stdout",
     "output_type": "stream",
     "text": [
      "Untitled.ipynb        test.csv              zillow_api.ipynb\r\n",
      "Untitled1.ipynb       walkable_api.ipynb    zillow_api.py\r\n",
      "load_transform.ipynb  web_scraping.ipynb    zillow_api.pyc\r\n"
     ]
    }
   ],
   "source": [
    "ls"
   ]
  },
  {
   "cell_type": "code",
   "execution_count": 17,
   "metadata": {
    "collapsed": false
   },
   "outputs": [],
   "source": [
    "d = pd.read_csv('test.csv', index_col=1)"
   ]
  },
  {
   "cell_type": "code",
   "execution_count": 18,
   "metadata": {
    "collapsed": false
   },
   "outputs": [
    {
     "data": {
      "text/html": [
       "<div style=\"max-height:1000px;max-width:1500px;overflow:auto;\">\n",
       "<table border=\"1\" class=\"dataframe\">\n",
       "  <thead>\n",
       "    <tr style=\"text-align: right;\">\n",
       "      <th></th>\n",
       "      <th>Unnamed: 0</th>\n",
       "      <th>b</th>\n",
       "    </tr>\n",
       "    <tr>\n",
       "      <th>a</th>\n",
       "      <th></th>\n",
       "      <th></th>\n",
       "    </tr>\n",
       "  </thead>\n",
       "  <tbody>\n",
       "    <tr>\n",
       "      <th>0.523284</th>\n",
       "      <td> 0</td>\n",
       "      <td> 0.353640</td>\n",
       "    </tr>\n",
       "    <tr>\n",
       "      <th>0.097350</th>\n",
       "      <td> 1</td>\n",
       "      <td> 0.457579</td>\n",
       "    </tr>\n",
       "    <tr>\n",
       "      <th>0.574321</th>\n",
       "      <td> 2</td>\n",
       "      <td> 0.343416</td>\n",
       "    </tr>\n",
       "    <tr>\n",
       "      <th>0.256351</th>\n",
       "      <td> 3</td>\n",
       "      <td> 0.731467</td>\n",
       "    </tr>\n",
       "    <tr>\n",
       "      <th>0.180079</th>\n",
       "      <td> 4</td>\n",
       "      <td> 0.514708</td>\n",
       "    </tr>\n",
       "    <tr>\n",
       "      <th>0.008079</th>\n",
       "      <td> 5</td>\n",
       "      <td> 0.328280</td>\n",
       "    </tr>\n",
       "    <tr>\n",
       "      <th>0.960503</th>\n",
       "      <td> 6</td>\n",
       "      <td> 0.989958</td>\n",
       "    </tr>\n",
       "    <tr>\n",
       "      <th>0.201552</th>\n",
       "      <td> 7</td>\n",
       "      <td> 0.240607</td>\n",
       "    </tr>\n",
       "    <tr>\n",
       "      <th>0.139089</th>\n",
       "      <td> 8</td>\n",
       "      <td> 0.874630</td>\n",
       "    </tr>\n",
       "    <tr>\n",
       "      <th>0.229892</th>\n",
       "      <td> 9</td>\n",
       "      <td> 0.964626</td>\n",
       "    </tr>\n",
       "  </tbody>\n",
       "</table>\n",
       "</div>"
      ],
      "text/plain": [
       "          Unnamed: 0         b\n",
       "a                             \n",
       "0.523284           0  0.353640\n",
       "0.097350           1  0.457579\n",
       "0.574321           2  0.343416\n",
       "0.256351           3  0.731467\n",
       "0.180079           4  0.514708\n",
       "0.008079           5  0.328280\n",
       "0.960503           6  0.989958\n",
       "0.201552           7  0.240607\n",
       "0.139089           8  0.874630\n",
       "0.229892           9  0.964626"
      ]
     },
     "execution_count": 18,
     "metadata": {},
     "output_type": "execute_result"
    }
   ],
   "source": [
    "\n",
    "d"
   ]
  },
  {
   "cell_type": "code",
   "execution_count": null,
   "metadata": {
    "collapsed": true
   },
   "outputs": [],
   "source": []
  }
 ],
 "metadata": {
  "kernelspec": {
   "display_name": "Python 2",
   "language": "python",
   "name": "python2"
  },
  "language_info": {
   "codemirror_mode": {
    "name": "ipython",
    "version": 2
   },
   "file_extension": ".py",
   "mimetype": "text/x-python",
   "name": "python",
   "nbconvert_exporter": "python",
   "pygments_lexer": "ipython2",
   "version": "2.7.10"
  }
 },
 "nbformat": 4,
 "nbformat_minor": 0
}
