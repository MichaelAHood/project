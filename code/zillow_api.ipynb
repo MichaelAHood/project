{
 "cells": [
  {
   "cell_type": "code",
   "execution_count": 36,
   "metadata": {
    "collapsed": false
   },
   "outputs": [],
   "source": [
    "import pandas as pd\n",
    "import requests\n",
    "from pymongo import MongoClient\n",
    "from bs4 import BeautifulSoup as BS\n",
    "import time\n",
    "import pprint\n",
    "import json\n",
    "import requesocks"
   ]
  },
  {
   "cell_type": "code",
   "execution_count": 147,
   "metadata": {
    "collapsed": false
   },
   "outputs": [
    {
     "name": "stdout",
     "output_type": "stream",
     "text": [
      "alameda.csv          mission.csv          potrero_hill.csv     sunset_district.csv\r\n",
      "bernal_heights.csv   pacific_heights.csv  south_of_market.csv  twin_peaks.csv\r\n"
     ]
    }
   ],
   "source": [
    "ls"
   ]
  },
  {
   "cell_type": "code",
   "execution_count": 38,
   "metadata": {
    "collapsed": false
   },
   "outputs": [],
   "source": [
    "df1 = pd.read_csv('alameda.csv')[['address', 'zid']]\n",
    "df2 = pd.read_csv('mission.csv')[['address', 'zid']]\n",
    "df3 = pd.read_csv('potrero_hill.csv')[['address', 'zid']]\n",
    "df4 = pd.read_csv('sunset_district.csv')[['address', 'zid']]\n",
    "df5 = pd.read_csv('bernal_heights.csv')[['address', 'zid']]\n",
    "df6 = pd.read_csv('pacific_heights.csv')[['address', 'zid']]\n",
    "df7 = pd.read_csv('south_of_market.csv')[['address', 'zid']]\n",
    "df8 = pd.read_csv('twin_peaks.csv')[['address', 'zid']]"
   ]
  },
  {
   "cell_type": "code",
   "execution_count": 148,
   "metadata": {
    "collapsed": false
   },
   "outputs": [],
   "source": [
    "df_sf = pd.concat([df1, df2, df3, df4, df5, df6, df7, df8],\n",
    "               ignore_index=True,\n",
    "               axis=0)"
   ]
  },
  {
   "cell_type": "code",
   "execution_count": 149,
   "metadata": {
    "collapsed": false
   },
   "outputs": [],
   "source": [
    "df_sf = df_sf.drop_duplicates()"
   ]
  },
  {
   "cell_type": "code",
   "execution_count": 39,
   "metadata": {
    "collapsed": true
   },
   "outputs": [],
   "source": [
    "# df1 = pd.read_csv('ballard.csv')[['address', 'zid']]\n",
    "# df2 = pd.read_csv('beacon_hill.csv')[['address', 'zid']]\n",
    "# df3 = pd.read_csv('bellevue_v1.csv')[['address', 'zid']]\n",
    "# df4 = pd.read_csv('bellevue_v2.csv')[['address', 'zid']]\n",
    "# df5 = pd.read_csv('burien_v2.csv')[['address', 'zid']]\n",
    "# df6 = pd.read_csv('cap_hill.csv')[['address', 'zid']]\n",
    "# df7 = pd.read_csv('issaquah_v1.csv')[['address', 'zid']]\n",
    "# df8 = pd.read_csv('issaquah_v2.csv')[['address', 'zid']]\n",
    "# df9 = pd.read_csv('lake_union.csv')[['address', 'zid']]\n",
    "# df10 = pd.read_csv('magnolia.csv')[['address', 'zid']]\n",
    "# df11 = pd.read_csv('queen_anne.csv')[['address', 'zid']]"
   ]
  },
  {
   "cell_type": "code",
   "execution_count": 40,
   "metadata": {
    "collapsed": true
   },
   "outputs": [],
   "source": [
    "# df_sea = pd.concat([df1, df2, df3, df4, df5, df6,\n",
    "#                     df7, df8, df9, df10, df11],\n",
    "#                    ignore_index=True,\n",
    "#                    axis=0)"
   ]
  },
  {
   "cell_type": "code",
   "execution_count": 41,
   "metadata": {
    "collapsed": false
   },
   "outputs": [],
   "source": [
    "# df_sea = df_sea.drop_duplicates()"
   ]
  },
  {
   "cell_type": "code",
   "execution_count": 42,
   "metadata": {
    "collapsed": false
   },
   "outputs": [
    {
     "data": {
      "text/plain": [
       "(1350, 2)"
      ]
     },
     "execution_count": 42,
     "metadata": {},
     "output_type": "execute_result"
    }
   ],
   "source": [
    "# df_sea.shape"
   ]
  },
  {
   "cell_type": "code",
   "execution_count": 43,
   "metadata": {
    "collapsed": false
   },
   "outputs": [],
   "source": [
    "# http://www.zillow.com/webservice/GetUpdatedPropertyDetails.htm?zws-id=<ZWSID>&zpid=48749425\n",
    "ZWSID =  \"X1-ZWz1a49jy1eadn_7dhgw\"\n",
    "BASE_URL = \"http://www.zillow.com/webservice/GetUpdatedPropertyDetails.htm?zws-id=\" + ZWSID + \"&zpid=\""
   ]
  },
  {
   "cell_type": "code",
   "execution_count": 51,
   "metadata": {
    "collapsed": false
   },
   "outputs": [],
   "source": [
    "def get_property_info(zpid):\n",
    "    return requests.get(BASE_URL + zpid)"
   ]
  },
  {
   "cell_type": "code",
   "execution_count": 52,
   "metadata": {
    "collapsed": false
   },
   "outputs": [],
   "source": [
    "# Get some queries\n",
    "def query_api(df, start_row, stop_row, proxy):\n",
    "    queries = []\n",
    "    df = df.ix[start_row : stop_row]\n",
    "    for row in df.iterrows():\n",
    "        zpid = str(row[1]['zid'])\n",
    "        print row[0]\n",
    "        queries.append(get_property_info(zpid))\n",
    "    return queries"
   ]
  },
  {
   "cell_type": "code",
   "execution_count": 155,
   "metadata": {
    "collapsed": false
   },
   "outputs": [
    {
     "name": "stdout",
     "output_type": "stream",
     "text": [
      "0\n",
      "1\n",
      "2\n"
     ]
    }
   ],
   "source": [
    "queries = query_api(df_sf, 0, 2, False)"
   ]
  },
  {
   "cell_type": "code",
   "execution_count": 157,
   "metadata": {
    "collapsed": false
   },
   "outputs": [
    {
     "data": {
      "text/plain": [
       "'<?xml version=\"1.0\" encoding=\"utf-8\"?><UpdatedPropertyDetails:updatedPropertyDetails xmlns:UpdatedPropertyDetails=\"http://www.zillow.com/static/xsd/UpdatedPropertyDetails.xsd\" xsi:schemaLocation=\"http://www.zillow.com/static/xsd/UpdatedPropertyDetails.xsd http://www.zillowstatic.com/vstatic/34794f0/static/xsd/UpdatedPropertyDetails.xsd\" xmlns:xsi=\"http://www.w3.org/2001/XMLSchema-instance\"><request><zpid>83231047</zpid></request><message><text>Error: this account has reached is maximum number of calls for today</text><code>7</code></message></UpdatedPropertyDetails:updatedPropertyDetails><!-- H:003  T:1ms  S:115  R:Sun Sep 13 22:21:18 PDT 2015  B:4.0.19615-release_20150908-endor.2fa5797~candidate.358c83d -->'"
      ]
     },
     "execution_count": 157,
     "metadata": {},
     "output_type": "execute_result"
    }
   ],
   "source": [
    "queries[0].content"
   ]
  },
  {
   "cell_type": "code",
   "execution_count": 136,
   "metadata": {
    "collapsed": false
   },
   "outputs": [],
   "source": [
    "def get_protected_listings(df, queries):\n",
    "    protected_listings = []\n",
    "    for query in queries:\n",
    "        soup = BS(query.content, 'html.parser')\n",
    "        if soup.find('text').string == 'Error: protected data is unavailable through API':\n",
    "            zpid = soup.find('zpid').string\n",
    "            protected_listings.append(int(zpid))\n",
    "    return df[df['zid'].isin(protected_listings)]"
   ]
  },
  {
   "cell_type": "code",
   "execution_count": 151,
   "metadata": {
    "collapsed": false
   },
   "outputs": [],
   "source": [
    "protected_listings = get_protected_listings(df_sf, queries)"
   ]
  },
  {
   "cell_type": "code",
   "execution_count": 152,
   "metadata": {
    "collapsed": false
   },
   "outputs": [
    {
     "data": {
      "text/plain": [
       "(0, 2)"
      ]
     },
     "execution_count": 152,
     "metadata": {},
     "output_type": "execute_result"
    }
   ],
   "source": [
    "protected_listings.shape"
   ]
  },
  {
   "cell_type": "code",
   "execution_count": 141,
   "metadata": {
    "collapsed": false
   },
   "outputs": [],
   "source": [
    "protected_listings.to_csv('sea_protected_listings.csv', separator=',')"
   ]
  },
  {
   "cell_type": "code",
   "execution_count": 121,
   "metadata": {
    "collapsed": true
   },
   "outputs": [],
   "source": [
    "scrape_base_url = \"http://www.zillow.com/homes/48749340_zpid/?hdpRedirected=true\""
   ]
  },
  {
   "cell_type": "code",
   "execution_count": 56,
   "metadata": {
    "collapsed": false
   },
   "outputs": [],
   "source": [
    "def get_listing_tags(soup):\n",
    "    response_content = soup.find('response').contents\n",
    "    attributes = []\n",
    "    for line in response_content:\n",
    "        if len(line.contents) > 1:\n",
    "            for sub_line in line.contents:\n",
    "                attributes.append((line.name, sub_line.name))\n",
    "        else:\n",
    "            attributes.append((line.name))\n",
    "    return attributes  # returns all of the tags and children tags in a list       "
   ]
  },
  {
   "cell_type": "code",
   "execution_count": 57,
   "metadata": {
    "collapsed": false
   },
   "outputs": [],
   "source": [
    "def extract_features(tags, soup):\n",
    "    schema = {}\n",
    "    for tag in tags:\n",
    "        if len(tag) == 2:\n",
    "            if tag[0] not in schema:\n",
    "                schema[str(tag[0])] = {}\n",
    "            schema[str(tag[0])][str(tag[1])] = str(soup.find(tag[0]).find(tag[1]).string)\n",
    "        if len(tag) > 2:\n",
    "            try:\n",
    "                schema[str(tag)] = str(soup.find(tag).string)\n",
    "            except:\n",
    "                continue\n",
    "    return schema # returns a dict with all of the info from the listing, formatted for insertion in to MongoDB"
   ]
  },
  {
   "cell_type": "code",
   "execution_count": 58,
   "metadata": {
    "collapsed": true
   },
   "outputs": [],
   "source": [
    "# Now turn all of the html content into a json like structure\n",
    "# for insertion into MongoDB\n",
    "\n",
    "def structure_data(queries):\n",
    "    entries = []\n",
    "    for query in queries: # a query is just a http request response object\n",
    "            content = query.content\n",
    "            soup = BS(content, 'html.parser')\n",
    "            code = int(soup.find('code').string)\n",
    "            if code == 0:  # a good api call\n",
    "                tags = get_listing_tags(soup)\n",
    "                entry = extract_features(tags, soup)\n",
    "                entries.append(entry)\n",
    "    return entries"
   ]
  },
  {
   "cell_type": "code",
   "execution_count": 153,
   "metadata": {
    "collapsed": true
   },
   "outputs": [],
   "source": [
    "entries = structure_data(queries)"
   ]
  },
  {
   "cell_type": "code",
   "execution_count": 154,
   "metadata": {
    "collapsed": false
   },
   "outputs": [
    {
     "data": {
      "text/plain": [
       "0"
      ]
     },
     "execution_count": 154,
     "metadata": {},
     "output_type": "execute_result"
    }
   ],
   "source": [
    "len(entries)"
   ]
  },
  {
   "cell_type": "code",
   "execution_count": 66,
   "metadata": {
    "collapsed": false
   },
   "outputs": [],
   "source": [
    "# with open('entries_2.json') as f:\n",
    "#     entries_2 = f.readlines()"
   ]
  },
  {
   "cell_type": "code",
   "execution_count": 79,
   "metadata": {
    "collapsed": false
   },
   "outputs": [],
   "source": [
    "entries2 = entries"
   ]
  },
  {
   "cell_type": "code",
   "execution_count": 88,
   "metadata": {
    "collapsed": false
   },
   "outputs": [],
   "source": [
    "def insert_queries(entries):\n",
    "    client = MongoClient()\n",
    "    db = client['proj']\n",
    "    listings = db['listings']\n",
    "    for entry in entries:\n",
    "        listings.insert(entry)\n",
    "        #print result.inserted_id"
   ]
  },
  {
   "cell_type": "code",
   "execution_count": 90,
   "metadata": {
    "collapsed": false
   },
   "outputs": [],
   "source": [
    "insert_queries(entries)"
   ]
  },
  {
   "cell_type": "code",
   "execution_count": 278,
   "metadata": {
    "collapsed": false
   },
   "outputs": [],
   "source": [
    "# write these things to file before I lose them!!!\n",
    "\n",
    "# with open('entries_2.json', 'w') as j:\n",
    "#     for line in entries_2:\n",
    "#         j.write(str(line) + '\\n')\n",
    "#     j.close()"
   ]
  },
  {
   "cell_type": "code",
   "execution_count": 53,
   "metadata": {
    "collapsed": false
   },
   "outputs": [],
   "source": [
    "#entries"
   ]
  },
  {
   "cell_type": "code",
   "execution_count": null,
   "metadata": {
    "collapsed": true
   },
   "outputs": [],
   "source": []
  }
 ],
 "metadata": {
  "kernelspec": {
   "display_name": "Python 2",
   "language": "python",
   "name": "python2"
  },
  "language_info": {
   "codemirror_mode": {
    "name": "ipython",
    "version": 2
   },
   "file_extension": ".py",
   "mimetype": "text/x-python",
   "name": "python",
   "nbconvert_exporter": "python",
   "pygments_lexer": "ipython2",
   "version": "2.7.10"
  }
 },
 "nbformat": 4,
 "nbformat_minor": 0
}
