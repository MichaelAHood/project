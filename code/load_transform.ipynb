{
 "cells": [
  {
   "cell_type": "code",
   "execution_count": 109,
   "metadata": {
    "collapsed": false
   },
   "outputs": [],
   "source": [
    "from pymongo import MongoClient\n",
    "import pandas as pd\n",
    "import pprint as pprint\n",
    "import collections\n",
    "from itertools import izip"
   ]
  },
  {
   "cell_type": "code",
   "execution_count": 14,
   "metadata": {
    "collapsed": true
   },
   "outputs": [],
   "source": [
    "client = MongoClient()\n",
    "db = client.proj"
   ]
  },
  {
   "cell_type": "code",
   "execution_count": 286,
   "metadata": {
    "collapsed": true
   },
   "outputs": [],
   "source": [
    "cursor = db.listings.find({\"address.state\": \"CA\"}) # returns a generator"
   ]
  },
  {
   "cell_type": "code",
   "execution_count": 287,
   "metadata": {
    "collapsed": false
   },
   "outputs": [
    {
     "name": "stdout",
     "output_type": "stream",
     "text": [
      "764\n"
     ]
    }
   ],
   "source": [
    "results = [document for document in cursor]\n",
    "print len(results) # use this insead of cast as list because some documents are lost with list(cursor)"
   ]
  },
  {
   "cell_type": "code",
   "execution_count": 288,
   "metadata": {
    "collapsed": true
   },
   "outputs": [],
   "source": [
    "# taken from Stackoverflow discussion at:\n",
    "# http://stackoverflow.com/questions/6027558/flatten-nested-python-dictionaries-compressing-keys\n",
    "\n",
    "import collections\n",
    "\n",
    "def flatten(d, parent_key='', sep='_'):\n",
    "    items = []\n",
    "    for k, v in d.items():\n",
    "        new_key = parent_key + sep + k if parent_key else k\n",
    "        if isinstance(v, collections.MutableMapping):\n",
    "            items.extend(flatten(v, new_key, sep=sep).items())\n",
    "        else:\n",
    "            items.append((new_key, v))\n",
    "    return dict(items)"
   ]
  },
  {
   "cell_type": "code",
   "execution_count": 289,
   "metadata": {
    "collapsed": false
   },
   "outputs": [],
   "source": [
    "def rename_columns(df):\n",
    "    cols = ['_id', 'pageviewcount_currentmonth', 'pageviewcount_total'] # want to keep these names as they are\n",
    "    df.columns = [col[col.find('_')+1:] if col not in cols else col for col in df.columns]\n",
    "    return df"
   ]
  },
  {
   "cell_type": "code",
   "execution_count": 295,
   "metadata": {
    "collapsed": false
   },
   "outputs": [],
   "source": [
    "def drop_columns(df):\n",
    "    df = df.drop(['image', 'openhousedates', 'mls', 'lastupdateddate',\n",
    "             'externalurl', 'agentprofileurl', 'agentname', 'homedetails', 'mls', \n",
    "             'homeinfo', 'photogallery'], axis=1)\n",
    "    return df"
   ]
  },
  {
   "cell_type": "code",
   "execution_count": 281,
   "metadata": {
    "collapsed": false
   },
   "outputs": [],
   "source": [
    "# Find the indices of the rows that are repeated\n",
    "def remove_duplicate_id(df):\n",
    "    grouped = df.groupby('zpid').apply(len)\n",
    "    repeated_rows = []\n",
    "    for tupl in izip(grouped.index, grouped):\n",
    "        if tupl[1] > 1:\n",
    "            repeated_rows.append(tupl[0])\n",
    "    t = df[df['zpid'].isin(repeated_rows)].sort('zpid')\n",
    "    indices = []\n",
    "    count = 0\n",
    "    for row in t.iterrows():\n",
    "        if count % 2 == 0:\n",
    "            indices.append(row[0])\n",
    "        count += 1\n",
    "    return df[~(df.index.isin(indices))]\n",
    "    "
   ]
  },
  {
   "cell_type": "code",
   "execution_count": 296,
   "metadata": {
    "collapsed": false
   },
   "outputs": [],
   "source": [
    "flattened = [flatten(result) for result in results]"
   ]
  },
  {
   "cell_type": "code",
   "execution_count": 297,
   "metadata": {
    "collapsed": false
   },
   "outputs": [],
   "source": [
    "df = pd.DataFrame(flattened, index=range(len(flattened)))"
   ]
  },
  {
   "cell_type": "code",
   "execution_count": 298,
   "metadata": {
    "collapsed": false
   },
   "outputs": [],
   "source": [
    "df = rename_columns(df)"
   ]
  },
  {
   "cell_type": "code",
   "execution_count": 299,
   "metadata": {
    "collapsed": false
   },
   "outputs": [],
   "source": [
    "df = drop_columns(df)"
   ]
  },
  {
   "cell_type": "code",
   "execution_count": 282,
   "metadata": {
    "collapsed": false
   },
   "outputs": [],
   "source": [
    "df = remove_duplicate_id(df)"
   ]
  },
  {
   "cell_type": "code",
   "execution_count": 300,
   "metadata": {
    "collapsed": false
   },
   "outputs": [
    {
     "data": {
      "text/plain": [
       "(764, 45)"
      ]
     },
     "execution_count": 300,
     "metadata": {},
     "output_type": "execute_result"
    }
   ],
   "source": [
    "df.shape"
   ]
  },
  {
   "cell_type": "code",
   "execution_count": 304,
   "metadata": {
    "collapsed": false
   },
   "outputs": [],
   "source": [
    "df.to_csv('trx_sf.csv', separator=\",\")"
   ]
  },
  {
   "cell_type": "code",
   "execution_count": 305,
   "metadata": {
    "collapsed": false
   },
   "outputs": [
    {
     "name": "stdout",
     "output_type": "stream",
     "text": [
      "Untitled.ipynb        trx_sf.csv            web_scraping.ipynb    zillow_api.py\r\n",
      "load_transform.ipynb  walkable_api.ipynb    zillow_api.ipynb      zillow_api.pyc\r\n"
     ]
    }
   ],
   "source": [
    "ls"
   ]
  },
  {
   "cell_type": "code",
   "execution_count": 306,
   "metadata": {
    "collapsed": true
   },
   "outputs": [],
   "source": [
    "!mv trx_sf.csv ../data/san_fran/"
   ]
  },
  {
   "cell_type": "code",
   "execution_count": 307,
   "metadata": {
    "collapsed": false
   },
   "outputs": [
    {
     "name": "stdout",
     "output_type": "stream",
     "text": [
      "Untitled.ipynb        walkable_api.ipynb    zillow_api.ipynb      zillow_api.pyc\r\n",
      "load_transform.ipynb  web_scraping.ipynb    zillow_api.py\r\n"
     ]
    }
   ],
   "source": [
    "ls"
   ]
  },
  {
   "cell_type": "code",
   "execution_count": 308,
   "metadata": {
    "collapsed": false
   },
   "outputs": [
    {
     "name": "stdout",
     "output_type": "stream",
     "text": [
      "/Users/michaelhood/Documents/projects/project/data/san_fran\n"
     ]
    }
   ],
   "source": [
    "cd ../data/san_fran/"
   ]
  },
  {
   "cell_type": "code",
   "execution_count": 309,
   "metadata": {
    "collapsed": false
   },
   "outputs": [
    {
     "name": "stdout",
     "output_type": "stream",
     "text": [
      "alameda.csv                   oakland.csv                   sf_protected_listings.csv\r\n",
      "bernal_heights.csv            pacific_heights.csv           sf_protected_listings_v2.csv\r\n",
      "daly_city.csv                 palo_alto.csv                 south_of_market.csv\r\n",
      "menlo_park.csv                potrero_hill.csv              sunnyvale.csv\r\n",
      "mission.csv                   redwood_city.csv              sunset_district.csv\r\n",
      "mission_district_v2.csv       san_bruno.csv                 trx_sf.csv\r\n",
      "nob_hill.csv                  santa_clara.csv               twin_peaks.csv\r\n"
     ]
    }
   ],
   "source": [
    "ls"
   ]
  },
  {
   "cell_type": "code",
   "execution_count": 311,
   "metadata": {
    "collapsed": false
   },
   "outputs": [
    {
     "data": {
      "text/html": [
       "<div style=\"max-height:1000px;max-width:1500px;overflow:auto;\">\n",
       "<table border=\"1\" class=\"dataframe\">\n",
       "  <thead>\n",
       "    <tr style=\"text-align: right;\">\n",
       "      <th></th>\n",
       "      <th>_id</th>\n",
       "      <th>city</th>\n",
       "      <th>latitude</th>\n",
       "      <th>longitude</th>\n",
       "      <th>state</th>\n",
       "      <th>street</th>\n",
       "      <th>zipcode</th>\n",
       "      <th>appliances</th>\n",
       "      <th>architecture</th>\n",
       "      <th>basement</th>\n",
       "      <th>...</th>\n",
       "      <th>middleschool</th>\n",
       "      <th>neighborhood</th>\n",
       "      <th>pageviewcount_currentmonth</th>\n",
       "      <th>pageviewcount_total</th>\n",
       "      <th>status</th>\n",
       "      <th>type</th>\n",
       "      <th>price</th>\n",
       "      <th>schooldistrict</th>\n",
       "      <th>whatownerloves</th>\n",
       "      <th>zpid</th>\n",
       "    </tr>\n",
       "  </thead>\n",
       "  <tbody>\n",
       "    <tr>\n",
       "      <th>0</th>\n",
       "      <td> 55f6e8a63ae7404c5edef1e6</td>\n",
       "      <td> Alameda</td>\n",
       "      <td>  37.77089</td>\n",
       "      <td> -122.267093</td>\n",
       "      <td> CA</td>\n",
       "      <td>    1046 Central Ave</td>\n",
       "      <td> 94501</td>\n",
       "      <td>                                               NaN</td>\n",
       "      <td>                    NaN</td>\n",
       "      <td> NaN</td>\n",
       "      <td>...</td>\n",
       "      <td> NaN</td>\n",
       "      <td> NaN</td>\n",
       "      <td> 3490</td>\n",
       "      <td> 3490</td>\n",
       "      <td> NaN</td>\n",
       "      <td>          NaN</td>\n",
       "      <td>     NaN</td>\n",
       "      <td> NaN</td>\n",
       "      <td>                       NaN</td>\n",
       "      <td> 24862982</td>\n",
       "    </tr>\n",
       "    <tr>\n",
       "      <th>1</th>\n",
       "      <td> 55f6e8a63ae7404c5edef1e7</td>\n",
       "      <td> Alameda</td>\n",
       "      <td> 37.774675</td>\n",
       "      <td> -122.252674</td>\n",
       "      <td> CA</td>\n",
       "      <td>      1724 Eagle Ave</td>\n",
       "      <td> 94501</td>\n",
       "      <td>                                               NaN</td>\n",
       "      <td>                    NaN</td>\n",
       "      <td> NaN</td>\n",
       "      <td>...</td>\n",
       "      <td> NaN</td>\n",
       "      <td> NaN</td>\n",
       "      <td>  931</td>\n",
       "      <td>  931</td>\n",
       "      <td> NaN</td>\n",
       "      <td>          NaN</td>\n",
       "      <td>     NaN</td>\n",
       "      <td> NaN</td>\n",
       "      <td>                       NaN</td>\n",
       "      <td> 24861179</td>\n",
       "    </tr>\n",
       "    <tr>\n",
       "      <th>2</th>\n",
       "      <td> 55f6e8a63ae7404c5edef1e8</td>\n",
       "      <td> Alameda</td>\n",
       "      <td> 37.783418</td>\n",
       "      <td> -122.283656</td>\n",
       "      <td> CA</td>\n",
       "      <td>   2378 Coral Sea St</td>\n",
       "      <td> 94501</td>\n",
       "      <td>                                               NaN</td>\n",
       "      <td>                    NaN</td>\n",
       "      <td> NaN</td>\n",
       "      <td>...</td>\n",
       "      <td> NaN</td>\n",
       "      <td> NaN</td>\n",
       "      <td> 1372</td>\n",
       "      <td> 1372</td>\n",
       "      <td> NaN</td>\n",
       "      <td>          NaN</td>\n",
       "      <td>     NaN</td>\n",
       "      <td> NaN</td>\n",
       "      <td>                       NaN</td>\n",
       "      <td> 72700378</td>\n",
       "    </tr>\n",
       "    <tr>\n",
       "      <th>3</th>\n",
       "      <td> 55f6e8a63ae7404c5edef1e9</td>\n",
       "      <td> Alameda</td>\n",
       "      <td> 37.769562</td>\n",
       "      <td> -122.270395</td>\n",
       "      <td> CA</td>\n",
       "      <td> 903 San Antonio Ave</td>\n",
       "      <td> 94501</td>\n",
       "      <td>                                               NaN</td>\n",
       "      <td>                    NaN</td>\n",
       "      <td> NaN</td>\n",
       "      <td>...</td>\n",
       "      <td> NaN</td>\n",
       "      <td> NaN</td>\n",
       "      <td>  785</td>\n",
       "      <td>  785</td>\n",
       "      <td> NaN</td>\n",
       "      <td>          NaN</td>\n",
       "      <td>     NaN</td>\n",
       "      <td> NaN</td>\n",
       "      <td>                       NaN</td>\n",
       "      <td> 24863091</td>\n",
       "    </tr>\n",
       "    <tr>\n",
       "      <th>4</th>\n",
       "      <td> 55f6e8a63ae7404c5edef1ea</td>\n",
       "      <td> Alameda</td>\n",
       "      <td> 37.769149</td>\n",
       "      <td> -122.240074</td>\n",
       "      <td> CA</td>\n",
       "      <td>      2318 Eagle Ave</td>\n",
       "      <td> 94501</td>\n",
       "      <td> Dishwasher, Dryer, Freezer, Garbage disposal, ...</td>\n",
       "      <td> Queen Anne / Victorian</td>\n",
       "      <td> NaN</td>\n",
       "      <td>...</td>\n",
       "      <td> NaN</td>\n",
       "      <td> NaN</td>\n",
       "      <td> 1093</td>\n",
       "      <td> 1093</td>\n",
       "      <td> NaN</td>\n",
       "      <td> Make me move</td>\n",
       "      <td> 1395000</td>\n",
       "      <td> NaN</td>\n",
       "      <td> It's famous architecture.</td>\n",
       "      <td> 24859684</td>\n",
       "    </tr>\n",
       "  </tbody>\n",
       "</table>\n",
       "<p>5 rows × 45 columns</p>\n",
       "</div>"
      ],
      "text/plain": [
       "                        _id     city   latitude    longitude state  \\\n",
       "0  55f6e8a63ae7404c5edef1e6  Alameda   37.77089  -122.267093    CA   \n",
       "1  55f6e8a63ae7404c5edef1e7  Alameda  37.774675  -122.252674    CA   \n",
       "2  55f6e8a63ae7404c5edef1e8  Alameda  37.783418  -122.283656    CA   \n",
       "3  55f6e8a63ae7404c5edef1e9  Alameda  37.769562  -122.270395    CA   \n",
       "4  55f6e8a63ae7404c5edef1ea  Alameda  37.769149  -122.240074    CA   \n",
       "\n",
       "                street zipcode  \\\n",
       "0     1046 Central Ave   94501   \n",
       "1       1724 Eagle Ave   94501   \n",
       "2    2378 Coral Sea St   94501   \n",
       "3  903 San Antonio Ave   94501   \n",
       "4       2318 Eagle Ave   94501   \n",
       "\n",
       "                                          appliances            architecture  \\\n",
       "0                                                NaN                     NaN   \n",
       "1                                                NaN                     NaN   \n",
       "2                                                NaN                     NaN   \n",
       "3                                                NaN                     NaN   \n",
       "4  Dishwasher, Dryer, Freezer, Garbage disposal, ...  Queen Anne / Victorian   \n",
       "\n",
       "  basement    ...    middleschool neighborhood pageviewcount_currentmonth  \\\n",
       "0      NaN    ...             NaN          NaN                       3490   \n",
       "1      NaN    ...             NaN          NaN                        931   \n",
       "2      NaN    ...             NaN          NaN                       1372   \n",
       "3      NaN    ...             NaN          NaN                        785   \n",
       "4      NaN    ...             NaN          NaN                       1093   \n",
       "\n",
       "  pageviewcount_total status          type    price schooldistrict  \\\n",
       "0                3490    NaN           NaN      NaN            NaN   \n",
       "1                 931    NaN           NaN      NaN            NaN   \n",
       "2                1372    NaN           NaN      NaN            NaN   \n",
       "3                 785    NaN           NaN      NaN            NaN   \n",
       "4                1093    NaN  Make me move  1395000            NaN   \n",
       "\n",
       "              whatownerloves      zpid  \n",
       "0                        NaN  24862982  \n",
       "1                        NaN  24861179  \n",
       "2                        NaN  72700378  \n",
       "3                        NaN  24863091  \n",
       "4  It's famous architecture.  24859684  \n",
       "\n",
       "[5 rows x 45 columns]"
      ]
     },
     "execution_count": 311,
     "metadata": {},
     "output_type": "execute_result"
    }
   ],
   "source": [
    "df.head()"
   ]
  },
  {
   "cell_type": "code",
   "execution_count": null,
   "metadata": {
    "collapsed": true
   },
   "outputs": [],
   "source": []
  }
 ],
 "metadata": {
  "kernelspec": {
   "display_name": "Python 2",
   "language": "python",
   "name": "python2"
  },
  "language_info": {
   "codemirror_mode": {
    "name": "ipython",
    "version": 2
   },
   "file_extension": ".py",
   "mimetype": "text/x-python",
   "name": "python",
   "nbconvert_exporter": "python",
   "pygments_lexer": "ipython2",
   "version": "2.7.10"
  }
 },
 "nbformat": 4,
 "nbformat_minor": 0
}
